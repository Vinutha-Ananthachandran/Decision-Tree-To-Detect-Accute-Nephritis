{
 "cells": [
  {
   "cell_type": "markdown",
   "metadata": {},
   "source": [
    "## 1. Decision Trees as Interpretable Models"
   ]
  },
  {
   "cell_type": "markdown",
   "metadata": {},
   "source": [
    "Import packages"
   ]
  },
  {
   "cell_type": "code",
   "execution_count": 1,
   "metadata": {},
   "outputs": [],
   "source": [
    "import pandas as pd\n",
    "from sklearn.model_selection import train_test_split\n",
    "from sklearn.tree import DecisionTreeClassifier\n",
    "from sklearn.metrics import accuracy_score\n",
    "from sklearn import tree\n",
    "from sklearn.tree import _tree\n",
    "from sklearn.model_selection import GridSearchCV\n",
    "import numpy as np\n",
    "from sklearn import impute\n",
    "import seaborn\n",
    "import matplotlib.pyplot as plt\n",
    "import math\n",
    "from sklearn.linear_model import LinearRegression\n",
    "from sklearn.metrics import mean_squared_error\n",
    "import statsmodels.api as sm\n",
    "import statsmodels.formula.api as smf\n",
    "from sklearn.linear_model import RidgeCV\n",
    "from sklearn.linear_model import LassoCV\n",
    "from sklearn.preprocessing import StandardScaler\n",
    "from sklearn.decomposition import PCA\n",
    "from sklearn.model_selection import cross_validate\n",
    "import xgboost"
   ]
  },
  {
   "cell_type": "markdown",
   "metadata": {},
   "source": [
    "### (a) Obtain Data"
   ]
  },
  {
   "cell_type": "markdown",
   "metadata": {},
   "source": [
    "Get the Accute Inflammations Data Set"
   ]
  },
  {
   "cell_type": "code",
   "execution_count": 2,
   "metadata": {},
   "outputs": [],
   "source": [
    "diagnosis_data = pd.read_csv(\"../data/diagnosis.csv\",delimiter=\",\",names=['Temperature(C)','Nausea','Lumbar pain','Urine pushing',\n",
    "                                                                           'Micturition pains','Burning/Itching/Swelling of Bladder',\n",
    "                                                                           'Inflammation of bladder','Nephritis'])"
   ]
  },
  {
   "cell_type": "code",
   "execution_count": 3,
   "metadata": {},
   "outputs": [
    {
     "data": {
      "text/html": [
       "<div>\n",
       "<style scoped>\n",
       "    .dataframe tbody tr th:only-of-type {\n",
       "        vertical-align: middle;\n",
       "    }\n",
       "\n",
       "    .dataframe tbody tr th {\n",
       "        vertical-align: top;\n",
       "    }\n",
       "\n",
       "    .dataframe thead th {\n",
       "        text-align: right;\n",
       "    }\n",
       "</style>\n",
       "<table border=\"1\" class=\"dataframe\">\n",
       "  <thead>\n",
       "    <tr style=\"text-align: right;\">\n",
       "      <th></th>\n",
       "      <th>Temperature(C)</th>\n",
       "      <th>Nausea</th>\n",
       "      <th>Lumbar pain</th>\n",
       "      <th>Urine pushing</th>\n",
       "      <th>Micturition pains</th>\n",
       "      <th>Burning/Itching/Swelling of Bladder</th>\n",
       "      <th>Inflammation of bladder</th>\n",
       "      <th>Nephritis</th>\n",
       "    </tr>\n",
       "  </thead>\n",
       "  <tbody>\n",
       "    <tr>\n",
       "      <th>0</th>\n",
       "      <td>35,5</td>\n",
       "      <td>no</td>\n",
       "      <td>yes</td>\n",
       "      <td>no</td>\n",
       "      <td>no</td>\n",
       "      <td>no</td>\n",
       "      <td>no</td>\n",
       "      <td>no</td>\n",
       "    </tr>\n",
       "    <tr>\n",
       "      <th>1</th>\n",
       "      <td>35,9</td>\n",
       "      <td>no</td>\n",
       "      <td>no</td>\n",
       "      <td>yes</td>\n",
       "      <td>yes</td>\n",
       "      <td>yes</td>\n",
       "      <td>yes</td>\n",
       "      <td>no</td>\n",
       "    </tr>\n",
       "    <tr>\n",
       "      <th>2</th>\n",
       "      <td>35,9</td>\n",
       "      <td>no</td>\n",
       "      <td>yes</td>\n",
       "      <td>no</td>\n",
       "      <td>no</td>\n",
       "      <td>no</td>\n",
       "      <td>no</td>\n",
       "      <td>no</td>\n",
       "    </tr>\n",
       "    <tr>\n",
       "      <th>3</th>\n",
       "      <td>36,0</td>\n",
       "      <td>no</td>\n",
       "      <td>no</td>\n",
       "      <td>yes</td>\n",
       "      <td>yes</td>\n",
       "      <td>yes</td>\n",
       "      <td>yes</td>\n",
       "      <td>no</td>\n",
       "    </tr>\n",
       "    <tr>\n",
       "      <th>4</th>\n",
       "      <td>36,0</td>\n",
       "      <td>no</td>\n",
       "      <td>yes</td>\n",
       "      <td>no</td>\n",
       "      <td>no</td>\n",
       "      <td>no</td>\n",
       "      <td>no</td>\n",
       "      <td>no</td>\n",
       "    </tr>\n",
       "    <tr>\n",
       "      <th>...</th>\n",
       "      <td>...</td>\n",
       "      <td>...</td>\n",
       "      <td>...</td>\n",
       "      <td>...</td>\n",
       "      <td>...</td>\n",
       "      <td>...</td>\n",
       "      <td>...</td>\n",
       "      <td>...</td>\n",
       "    </tr>\n",
       "    <tr>\n",
       "      <th>115</th>\n",
       "      <td>41,4</td>\n",
       "      <td>no</td>\n",
       "      <td>yes</td>\n",
       "      <td>yes</td>\n",
       "      <td>no</td>\n",
       "      <td>yes</td>\n",
       "      <td>no</td>\n",
       "      <td>yes</td>\n",
       "    </tr>\n",
       "    <tr>\n",
       "      <th>116</th>\n",
       "      <td>41,5</td>\n",
       "      <td>no</td>\n",
       "      <td>no</td>\n",
       "      <td>no</td>\n",
       "      <td>no</td>\n",
       "      <td>no</td>\n",
       "      <td>no</td>\n",
       "      <td>no</td>\n",
       "    </tr>\n",
       "    <tr>\n",
       "      <th>117</th>\n",
       "      <td>41,5</td>\n",
       "      <td>yes</td>\n",
       "      <td>yes</td>\n",
       "      <td>no</td>\n",
       "      <td>yes</td>\n",
       "      <td>no</td>\n",
       "      <td>no</td>\n",
       "      <td>yes</td>\n",
       "    </tr>\n",
       "    <tr>\n",
       "      <th>118</th>\n",
       "      <td>41,5</td>\n",
       "      <td>no</td>\n",
       "      <td>yes</td>\n",
       "      <td>yes</td>\n",
       "      <td>no</td>\n",
       "      <td>yes</td>\n",
       "      <td>no</td>\n",
       "      <td>yes</td>\n",
       "    </tr>\n",
       "    <tr>\n",
       "      <th>119</th>\n",
       "      <td>41,5</td>\n",
       "      <td>no</td>\n",
       "      <td>yes</td>\n",
       "      <td>yes</td>\n",
       "      <td>no</td>\n",
       "      <td>yes</td>\n",
       "      <td>no</td>\n",
       "      <td>yes</td>\n",
       "    </tr>\n",
       "  </tbody>\n",
       "</table>\n",
       "<p>120 rows × 8 columns</p>\n",
       "</div>"
      ],
      "text/plain": [
       "    Temperature(C) Nausea Lumbar pain Urine pushing Micturition pains  \\\n",
       "0             35,5     no         yes            no                no   \n",
       "1             35,9     no          no           yes               yes   \n",
       "2             35,9     no         yes            no                no   \n",
       "3             36,0     no          no           yes               yes   \n",
       "4             36,0     no         yes            no                no   \n",
       "..             ...    ...         ...           ...               ...   \n",
       "115           41,4     no         yes           yes                no   \n",
       "116           41,5     no          no            no                no   \n",
       "117           41,5    yes         yes            no               yes   \n",
       "118           41,5     no         yes           yes                no   \n",
       "119           41,5     no         yes           yes                no   \n",
       "\n",
       "    Burning/Itching/Swelling of Bladder Inflammation of bladder Nephritis  \n",
       "0                                    no                      no        no  \n",
       "1                                   yes                     yes        no  \n",
       "2                                    no                      no        no  \n",
       "3                                   yes                     yes        no  \n",
       "4                                    no                      no        no  \n",
       "..                                  ...                     ...       ...  \n",
       "115                                 yes                      no       yes  \n",
       "116                                  no                      no        no  \n",
       "117                                  no                      no       yes  \n",
       "118                                 yes                      no       yes  \n",
       "119                                 yes                      no       yes  \n",
       "\n",
       "[120 rows x 8 columns]"
      ]
     },
     "execution_count": 3,
     "metadata": {},
     "output_type": "execute_result"
    }
   ],
   "source": [
    "diagnosis_data"
   ]
  },
  {
   "cell_type": "code",
   "execution_count": 4,
   "metadata": {},
   "outputs": [],
   "source": [
    "diagnosis_data = diagnosis_data.replace(regex={r\",\":r\".\"})"
   ]
  },
  {
   "cell_type": "code",
   "execution_count": 5,
   "metadata": {},
   "outputs": [],
   "source": [
    "diagnosis_data = diagnosis_data.replace(to_replace=\"yes\",value=1)"
   ]
  },
  {
   "cell_type": "code",
   "execution_count": 6,
   "metadata": {},
   "outputs": [],
   "source": [
    "diagnosis_data = diagnosis_data.replace(to_replace=\"no\",value=0)"
   ]
  },
  {
   "cell_type": "code",
   "execution_count": 7,
   "metadata": {},
   "outputs": [],
   "source": [
    "diagnosis_data['Temperature(C)'] = diagnosis_data['Temperature(C)'].astype(float)\n",
    "diagnosis_data['Nausea'] = diagnosis_data['Nausea'].astype(int)\n",
    "diagnosis_data['Lumbar pain'] = diagnosis_data['Lumbar pain'].astype(int)\n",
    "diagnosis_data['Urine pushing'] = diagnosis_data['Urine pushing'].astype(int)\n",
    "diagnosis_data['Micturition pains'] = diagnosis_data['Micturition pains'].astype(int)\n",
    "diagnosis_data['Burning/Itching/Swelling of Bladder'] = diagnosis_data['Burning/Itching/Swelling of Bladder'].astype(int)\n",
    "diagnosis_data['Inflammation of bladder'] = diagnosis_data['Inflammation of bladder'].astype(int)\n",
    "diagnosis_data['Nephritis'] = diagnosis_data['Nephritis'].astype(int)"
   ]
  },
  {
   "cell_type": "code",
   "execution_count": 8,
   "metadata": {},
   "outputs": [
    {
     "data": {
      "text/plain": [
       "Temperature(C)                         float64\n",
       "Nausea                                   int32\n",
       "Lumbar pain                              int32\n",
       "Urine pushing                            int32\n",
       "Micturition pains                        int32\n",
       "Burning/Itching/Swelling of Bladder      int32\n",
       "Inflammation of bladder                  int32\n",
       "Nephritis                                int32\n",
       "dtype: object"
      ]
     },
     "execution_count": 8,
     "metadata": {},
     "output_type": "execute_result"
    }
   ],
   "source": [
    "diagnosis_data.dtypes"
   ]
  },
  {
   "cell_type": "code",
   "execution_count": 9,
   "metadata": {},
   "outputs": [
    {
     "data": {
      "text/html": [
       "<div>\n",
       "<style scoped>\n",
       "    .dataframe tbody tr th:only-of-type {\n",
       "        vertical-align: middle;\n",
       "    }\n",
       "\n",
       "    .dataframe tbody tr th {\n",
       "        vertical-align: top;\n",
       "    }\n",
       "\n",
       "    .dataframe thead th {\n",
       "        text-align: right;\n",
       "    }\n",
       "</style>\n",
       "<table border=\"1\" class=\"dataframe\">\n",
       "  <thead>\n",
       "    <tr style=\"text-align: right;\">\n",
       "      <th></th>\n",
       "      <th>Temperature(C)</th>\n",
       "      <th>Nausea</th>\n",
       "      <th>Lumbar pain</th>\n",
       "      <th>Urine pushing</th>\n",
       "      <th>Micturition pains</th>\n",
       "      <th>Burning/Itching/Swelling of Bladder</th>\n",
       "      <th>Inflammation of bladder</th>\n",
       "      <th>Nephritis</th>\n",
       "    </tr>\n",
       "  </thead>\n",
       "  <tbody>\n",
       "    <tr>\n",
       "      <th>0</th>\n",
       "      <td>35.5</td>\n",
       "      <td>0</td>\n",
       "      <td>1</td>\n",
       "      <td>0</td>\n",
       "      <td>0</td>\n",
       "      <td>0</td>\n",
       "      <td>0</td>\n",
       "      <td>0</td>\n",
       "    </tr>\n",
       "    <tr>\n",
       "      <th>1</th>\n",
       "      <td>35.9</td>\n",
       "      <td>0</td>\n",
       "      <td>0</td>\n",
       "      <td>1</td>\n",
       "      <td>1</td>\n",
       "      <td>1</td>\n",
       "      <td>1</td>\n",
       "      <td>0</td>\n",
       "    </tr>\n",
       "    <tr>\n",
       "      <th>2</th>\n",
       "      <td>35.9</td>\n",
       "      <td>0</td>\n",
       "      <td>1</td>\n",
       "      <td>0</td>\n",
       "      <td>0</td>\n",
       "      <td>0</td>\n",
       "      <td>0</td>\n",
       "      <td>0</td>\n",
       "    </tr>\n",
       "    <tr>\n",
       "      <th>3</th>\n",
       "      <td>36.0</td>\n",
       "      <td>0</td>\n",
       "      <td>0</td>\n",
       "      <td>1</td>\n",
       "      <td>1</td>\n",
       "      <td>1</td>\n",
       "      <td>1</td>\n",
       "      <td>0</td>\n",
       "    </tr>\n",
       "    <tr>\n",
       "      <th>4</th>\n",
       "      <td>36.0</td>\n",
       "      <td>0</td>\n",
       "      <td>1</td>\n",
       "      <td>0</td>\n",
       "      <td>0</td>\n",
       "      <td>0</td>\n",
       "      <td>0</td>\n",
       "      <td>0</td>\n",
       "    </tr>\n",
       "    <tr>\n",
       "      <th>...</th>\n",
       "      <td>...</td>\n",
       "      <td>...</td>\n",
       "      <td>...</td>\n",
       "      <td>...</td>\n",
       "      <td>...</td>\n",
       "      <td>...</td>\n",
       "      <td>...</td>\n",
       "      <td>...</td>\n",
       "    </tr>\n",
       "    <tr>\n",
       "      <th>115</th>\n",
       "      <td>41.4</td>\n",
       "      <td>0</td>\n",
       "      <td>1</td>\n",
       "      <td>1</td>\n",
       "      <td>0</td>\n",
       "      <td>1</td>\n",
       "      <td>0</td>\n",
       "      <td>1</td>\n",
       "    </tr>\n",
       "    <tr>\n",
       "      <th>116</th>\n",
       "      <td>41.5</td>\n",
       "      <td>0</td>\n",
       "      <td>0</td>\n",
       "      <td>0</td>\n",
       "      <td>0</td>\n",
       "      <td>0</td>\n",
       "      <td>0</td>\n",
       "      <td>0</td>\n",
       "    </tr>\n",
       "    <tr>\n",
       "      <th>117</th>\n",
       "      <td>41.5</td>\n",
       "      <td>1</td>\n",
       "      <td>1</td>\n",
       "      <td>0</td>\n",
       "      <td>1</td>\n",
       "      <td>0</td>\n",
       "      <td>0</td>\n",
       "      <td>1</td>\n",
       "    </tr>\n",
       "    <tr>\n",
       "      <th>118</th>\n",
       "      <td>41.5</td>\n",
       "      <td>0</td>\n",
       "      <td>1</td>\n",
       "      <td>1</td>\n",
       "      <td>0</td>\n",
       "      <td>1</td>\n",
       "      <td>0</td>\n",
       "      <td>1</td>\n",
       "    </tr>\n",
       "    <tr>\n",
       "      <th>119</th>\n",
       "      <td>41.5</td>\n",
       "      <td>0</td>\n",
       "      <td>1</td>\n",
       "      <td>1</td>\n",
       "      <td>0</td>\n",
       "      <td>1</td>\n",
       "      <td>0</td>\n",
       "      <td>1</td>\n",
       "    </tr>\n",
       "  </tbody>\n",
       "</table>\n",
       "<p>120 rows × 8 columns</p>\n",
       "</div>"
      ],
      "text/plain": [
       "     Temperature(C)  Nausea  Lumbar pain  Urine pushing  Micturition pains  \\\n",
       "0              35.5       0            1              0                  0   \n",
       "1              35.9       0            0              1                  1   \n",
       "2              35.9       0            1              0                  0   \n",
       "3              36.0       0            0              1                  1   \n",
       "4              36.0       0            1              0                  0   \n",
       "..              ...     ...          ...            ...                ...   \n",
       "115            41.4       0            1              1                  0   \n",
       "116            41.5       0            0              0                  0   \n",
       "117            41.5       1            1              0                  1   \n",
       "118            41.5       0            1              1                  0   \n",
       "119            41.5       0            1              1                  0   \n",
       "\n",
       "     Burning/Itching/Swelling of Bladder  Inflammation of bladder  Nephritis  \n",
       "0                                      0                        0          0  \n",
       "1                                      1                        1          0  \n",
       "2                                      0                        0          0  \n",
       "3                                      1                        1          0  \n",
       "4                                      0                        0          0  \n",
       "..                                   ...                      ...        ...  \n",
       "115                                    1                        0          1  \n",
       "116                                    0                        0          0  \n",
       "117                                    0                        0          1  \n",
       "118                                    1                        0          1  \n",
       "119                                    1                        0          1  \n",
       "\n",
       "[120 rows x 8 columns]"
      ]
     },
     "execution_count": 9,
     "metadata": {},
     "output_type": "execute_result"
    }
   ],
   "source": [
    "diagnosis_data"
   ]
  },
  {
   "cell_type": "markdown",
   "metadata": {},
   "source": [
    "### (b) Build a decision tree"
   ]
  },
  {
   "cell_type": "code",
   "execution_count": 10,
   "metadata": {},
   "outputs": [],
   "source": [
    "x_data = diagnosis_data.drop(['Inflammation of bladder','Nephritis'],axis=\"columns\")"
   ]
  },
  {
   "cell_type": "code",
   "execution_count": 11,
   "metadata": {},
   "outputs": [
    {
     "data": {
      "text/html": [
       "<div>\n",
       "<style scoped>\n",
       "    .dataframe tbody tr th:only-of-type {\n",
       "        vertical-align: middle;\n",
       "    }\n",
       "\n",
       "    .dataframe tbody tr th {\n",
       "        vertical-align: top;\n",
       "    }\n",
       "\n",
       "    .dataframe thead th {\n",
       "        text-align: right;\n",
       "    }\n",
       "</style>\n",
       "<table border=\"1\" class=\"dataframe\">\n",
       "  <thead>\n",
       "    <tr style=\"text-align: right;\">\n",
       "      <th></th>\n",
       "      <th>Temperature(C)</th>\n",
       "      <th>Nausea</th>\n",
       "      <th>Lumbar pain</th>\n",
       "      <th>Urine pushing</th>\n",
       "      <th>Micturition pains</th>\n",
       "      <th>Burning/Itching/Swelling of Bladder</th>\n",
       "    </tr>\n",
       "  </thead>\n",
       "  <tbody>\n",
       "    <tr>\n",
       "      <th>0</th>\n",
       "      <td>35.5</td>\n",
       "      <td>0</td>\n",
       "      <td>1</td>\n",
       "      <td>0</td>\n",
       "      <td>0</td>\n",
       "      <td>0</td>\n",
       "    </tr>\n",
       "    <tr>\n",
       "      <th>1</th>\n",
       "      <td>35.9</td>\n",
       "      <td>0</td>\n",
       "      <td>0</td>\n",
       "      <td>1</td>\n",
       "      <td>1</td>\n",
       "      <td>1</td>\n",
       "    </tr>\n",
       "    <tr>\n",
       "      <th>2</th>\n",
       "      <td>35.9</td>\n",
       "      <td>0</td>\n",
       "      <td>1</td>\n",
       "      <td>0</td>\n",
       "      <td>0</td>\n",
       "      <td>0</td>\n",
       "    </tr>\n",
       "    <tr>\n",
       "      <th>3</th>\n",
       "      <td>36.0</td>\n",
       "      <td>0</td>\n",
       "      <td>0</td>\n",
       "      <td>1</td>\n",
       "      <td>1</td>\n",
       "      <td>1</td>\n",
       "    </tr>\n",
       "    <tr>\n",
       "      <th>4</th>\n",
       "      <td>36.0</td>\n",
       "      <td>0</td>\n",
       "      <td>1</td>\n",
       "      <td>0</td>\n",
       "      <td>0</td>\n",
       "      <td>0</td>\n",
       "    </tr>\n",
       "    <tr>\n",
       "      <th>...</th>\n",
       "      <td>...</td>\n",
       "      <td>...</td>\n",
       "      <td>...</td>\n",
       "      <td>...</td>\n",
       "      <td>...</td>\n",
       "      <td>...</td>\n",
       "    </tr>\n",
       "    <tr>\n",
       "      <th>115</th>\n",
       "      <td>41.4</td>\n",
       "      <td>0</td>\n",
       "      <td>1</td>\n",
       "      <td>1</td>\n",
       "      <td>0</td>\n",
       "      <td>1</td>\n",
       "    </tr>\n",
       "    <tr>\n",
       "      <th>116</th>\n",
       "      <td>41.5</td>\n",
       "      <td>0</td>\n",
       "      <td>0</td>\n",
       "      <td>0</td>\n",
       "      <td>0</td>\n",
       "      <td>0</td>\n",
       "    </tr>\n",
       "    <tr>\n",
       "      <th>117</th>\n",
       "      <td>41.5</td>\n",
       "      <td>1</td>\n",
       "      <td>1</td>\n",
       "      <td>0</td>\n",
       "      <td>1</td>\n",
       "      <td>0</td>\n",
       "    </tr>\n",
       "    <tr>\n",
       "      <th>118</th>\n",
       "      <td>41.5</td>\n",
       "      <td>0</td>\n",
       "      <td>1</td>\n",
       "      <td>1</td>\n",
       "      <td>0</td>\n",
       "      <td>1</td>\n",
       "    </tr>\n",
       "    <tr>\n",
       "      <th>119</th>\n",
       "      <td>41.5</td>\n",
       "      <td>0</td>\n",
       "      <td>1</td>\n",
       "      <td>1</td>\n",
       "      <td>0</td>\n",
       "      <td>1</td>\n",
       "    </tr>\n",
       "  </tbody>\n",
       "</table>\n",
       "<p>120 rows × 6 columns</p>\n",
       "</div>"
      ],
      "text/plain": [
       "     Temperature(C)  Nausea  Lumbar pain  Urine pushing  Micturition pains  \\\n",
       "0              35.5       0            1              0                  0   \n",
       "1              35.9       0            0              1                  1   \n",
       "2              35.9       0            1              0                  0   \n",
       "3              36.0       0            0              1                  1   \n",
       "4              36.0       0            1              0                  0   \n",
       "..              ...     ...          ...            ...                ...   \n",
       "115            41.4       0            1              1                  0   \n",
       "116            41.5       0            0              0                  0   \n",
       "117            41.5       1            1              0                  1   \n",
       "118            41.5       0            1              1                  0   \n",
       "119            41.5       0            1              1                  0   \n",
       "\n",
       "     Burning/Itching/Swelling of Bladder  \n",
       "0                                      0  \n",
       "1                                      1  \n",
       "2                                      0  \n",
       "3                                      1  \n",
       "4                                      0  \n",
       "..                                   ...  \n",
       "115                                    1  \n",
       "116                                    0  \n",
       "117                                    0  \n",
       "118                                    1  \n",
       "119                                    1  \n",
       "\n",
       "[120 rows x 6 columns]"
      ]
     },
     "execution_count": 11,
     "metadata": {},
     "output_type": "execute_result"
    }
   ],
   "source": [
    "x_data"
   ]
  },
  {
   "cell_type": "code",
   "execution_count": 12,
   "metadata": {},
   "outputs": [],
   "source": [
    "y_data = diagnosis_data[['Inflammation of bladder','Nephritis']]"
   ]
  },
  {
   "cell_type": "code",
   "execution_count": 13,
   "metadata": {},
   "outputs": [
    {
     "data": {
      "text/plain": [
       "Inflammation of bladder    int32\n",
       "Nephritis                  int32\n",
       "dtype: object"
      ]
     },
     "execution_count": 13,
     "metadata": {},
     "output_type": "execute_result"
    }
   ],
   "source": [
    "y_data.dtypes"
   ]
  },
  {
   "cell_type": "markdown",
   "metadata": {},
   "source": [
    "<font color=\"red\">With full dataset</font>"
   ]
  },
  {
   "cell_type": "code",
   "execution_count": 14,
   "metadata": {},
   "outputs": [],
   "source": [
    "diag_m = DecisionTreeClassifier(criterion=\"entropy\")"
   ]
  },
  {
   "cell_type": "code",
   "execution_count": 15,
   "metadata": {},
   "outputs": [],
   "source": [
    "diag_m = diag_m.fit(x_data,y_data)"
   ]
  },
  {
   "cell_type": "code",
   "execution_count": 16,
   "metadata": {},
   "outputs": [],
   "source": [
    "diag_pred = diag_m.predict(x_data)"
   ]
  },
  {
   "cell_type": "code",
   "execution_count": 17,
   "metadata": {},
   "outputs": [
    {
     "name": "stdout",
     "output_type": "stream",
     "text": [
      "Model Score: 1.0\n"
     ]
    }
   ],
   "source": [
    "print(f'Model Score: {accuracy_score(y_data,diag_pred)}')"
   ]
  },
  {
   "cell_type": "code",
   "execution_count": 18,
   "metadata": {},
   "outputs": [
    {
     "data": {
      "text/plain": [
       "[Text(0.4, 0.9, 'Temperature(C) <= 37.95\\nentropy = 0.99\\nsamples = 120\\nvalue = [[61, 59]\\n[70, 50]]'),\n",
       " Text(0.2, 0.7, 'Lumbar pain <= 0.5\\nentropy = 0.459\\nsamples = 60\\nvalue = [[20, 40]\\n[60, 0]]'),\n",
       " Text(0.1, 0.5, 'entropy = 0.0\\nsamples = 40\\nvalue = [[0, 40]\\n[40, 0]]'),\n",
       " Text(0.3, 0.5, 'entropy = 0.0\\nsamples = 20\\nvalue = [[20, 0]\\n[20, 0]]'),\n",
       " Text(0.6, 0.7, 'Lumbar pain <= 0.5\\nentropy = 0.775\\nsamples = 60\\nvalue = [[41, 19]\\n[10, 50]]'),\n",
       " Text(0.5, 0.5, 'entropy = 0.0\\nsamples = 10\\nvalue = [[10, 0]\\n[10, 0]]'),\n",
       " Text(0.7, 0.5, 'Micturition pains <= 0.5\\nentropy = 0.479\\nsamples = 50\\nvalue = [[31, 19]\\n[0, 50]]'),\n",
       " Text(0.6, 0.3, 'entropy = 0.0\\nsamples = 21\\nvalue = [[21, 0]\\n[0, 21]]'),\n",
       " Text(0.8, 0.3, 'Urine pushing <= 0.5\\nentropy = 0.465\\nsamples = 29\\nvalue = [[10, 19]\\n[0, 29]]'),\n",
       " Text(0.7, 0.1, 'entropy = 0.0\\nsamples = 10\\nvalue = [[10, 0]\\n[0, 10]]'),\n",
       " Text(0.9, 0.1, 'entropy = 0.0\\nsamples = 19\\nvalue = [[0, 19]\\n[0, 19]]')]"
      ]
     },
     "execution_count": 18,
     "metadata": {},
     "output_type": "execute_result"
    },
    {
     "data": {
      "image/png": "[encoded data removed]",
      "text/plain": [
       "<Figure size 640x480 with 1 Axes>"
      ]
     },
     "metadata": {},
     "output_type": "display_data"
    }
   ],
   "source": [
    "tree.plot_tree(diag_m,feature_names=['Temperature(C)','Nausea','Lumbar pain','Urine pushing',\n",
    "                                            'Micturition pains','Burning/Itching/Swelling of Bladder'],\n",
    "              class_names=['Inflammation of bladder','Nephritis'],filled=True)"
   ]
  },
  {
   "cell_type": "markdown",
   "metadata": {},
   "source": [
    "<font color=\"blue\">With Train and Test dataset</font>"
   ]
  },
  {
   "cell_type": "code",
   "execution_count": 19,
   "metadata": {},
   "outputs": [],
   "source": [
    "# splitting the data set in 70:30 ratio of train:test\n",
    "x_train,x_test,y_train,y_test = train_test_split(x_data,y_data,test_size=0.3,random_state=100)"
   ]
  },
  {
   "cell_type": "code",
   "execution_count": 20,
   "metadata": {},
   "outputs": [],
   "source": [
    "diagnosis_dt = DecisionTreeClassifier(criterion=\"entropy\")"
   ]
  },
  {
   "cell_type": "code",
   "execution_count": 21,
   "metadata": {},
   "outputs": [],
   "source": [
    "diagnosis_model = diagnosis_dt.fit(x_train,y_train)"
   ]
  },
  {
   "cell_type": "code",
   "execution_count": 22,
   "metadata": {},
   "outputs": [],
   "source": [
    "y_predict = diagnosis_model.predict(x_test)"
   ]
  },
  {
   "cell_type": "code",
   "execution_count": 23,
   "metadata": {},
   "outputs": [
    {
     "name": "stdout",
     "output_type": "stream",
     "text": [
      "Model Score: 1.0\n"
     ]
    }
   ],
   "source": [
    "print(f'Model Score: {accuracy_score(y_test,y_predict)}')"
   ]
  },
  {
   "cell_type": "code",
   "execution_count": 24,
   "metadata": {},
   "outputs": [
    {
     "data": {
      "text/plain": [
       "[Text(0.4, 0.9, 'Temperature(C) <= 37.95\\nentropy = 0.997\\nsamples = 84\\nvalue = [[43, 41]\\n[46, 38]]'),\n",
       " Text(0.2, 0.7, 'Lumbar pain <= 0.5\\nentropy = 0.455\\nsamples = 40\\nvalue = [[13, 27]\\n[40, 0]]'),\n",
       " Text(0.1, 0.5, 'entropy = 0.0\\nsamples = 27\\nvalue = [[0, 27]\\n[27, 0]]'),\n",
       " Text(0.3, 0.5, 'entropy = 0.0\\nsamples = 13\\nvalue = [[13, 0]\\n[13, 0]]'),\n",
       " Text(0.6, 0.7, 'Lumbar pain <= 0.5\\nentropy = 0.739\\nsamples = 44\\nvalue = [[30, 14]\\n[6, 38]]'),\n",
       " Text(0.5, 0.5, 'entropy = 0.0\\nsamples = 6\\nvalue = [[6, 0]\\n[6, 0]]'),\n",
       " Text(0.7, 0.5, 'Micturition pains <= 0.5\\nentropy = 0.475\\nsamples = 38\\nvalue = [[24, 14]\\n[0, 38]]'),\n",
       " Text(0.6, 0.3, 'entropy = 0.0\\nsamples = 17\\nvalue = [[17, 0]\\n[0, 17]]'),\n",
       " Text(0.8, 0.3, 'Urine pushing <= 0.5\\nentropy = 0.459\\nsamples = 21\\nvalue = [[7, 14]\\n[0, 21]]'),\n",
       " Text(0.7, 0.1, 'entropy = 0.0\\nsamples = 7\\nvalue = [[7, 0]\\n[0, 7]]'),\n",
       " Text(0.9, 0.1, 'entropy = 0.0\\nsamples = 14\\nvalue = [[0, 14]\\n[0, 14]]')]"
      ]
     },
     "execution_count": 24,
     "metadata": {},
     "output_type": "execute_result"
    },
    {
     "data": {
      "image/png": "[encoded data removed]",
      "text/plain": [
       "<Figure size 640x480 with 1 Axes>"
      ]
     },
     "metadata": {},
     "output_type": "display_data"
    }
   ],
   "source": [
    "tree.plot_tree(diagnosis_model,feature_names=['Temperature(C)','Nausea','Lumbar pain','Urine pushing',\n",
    "                                            'Micturition pains','Burning/Itching/Swelling of Bladder'],\n",
    "              class_names=['Inflammation of bladder','Nephritis'],filled=True)"
   ]
  },
  {
   "cell_type": "markdown",
   "metadata": {},
   "source": [
    "### (c) Convert the decision rules"
   ]
  },
  {
   "cell_type": "code",
   "execution_count": 25,
   "metadata": {},
   "outputs": [],
   "source": [
    "def tree_to_decision_rules(tree, feature_names):\n",
    "    left = tree.tree_.children_left\n",
    "    right = tree.tree_.children_right\n",
    "    threshold = tree.tree_.threshold\n",
    "    features = [feature_names[i] for i in tree.tree_.feature]\n",
    "    value = tree.tree_.value\n",
    "\n",
    "    def recurse(left, right, threshold, features, node, depth=0):\n",
    "        indent = \"  \" * depth\n",
    "        if (threshold[node] != -2):\n",
    "            print(indent,\"if ( \" + features[node] + \" <= \" + str(threshold[node]) + \" ) {\")\n",
    "            if left[node] != -1:\n",
    "                recurse (left, right, threshold, features, left[node], depth+1)\n",
    "                print(indent,\"} else {\")\n",
    "                if right[node] != -1:\n",
    "                    recurse (left, right, threshold, features, right[node], depth+1)\n",
    "            print(indent,\"}\")\n",
    "        else:\n",
    "            print(indent,\"return \" + str(value[node]))\n",
    "\n",
    "    recurse(left, right, threshold, features, 0)"
   ]
  },
  {
   "cell_type": "code",
   "execution_count": 26,
   "metadata": {},
   "outputs": [
    {
     "name": "stdout",
     "output_type": "stream",
     "text": [
      " if ( Temperature(C) <= 37.95000076293945 ) {\n",
      "   if ( Lumbar pain <= 0.5 ) {\n",
      "     return [[ 0. 27.]\n",
      " [27.  0.]]\n",
      "   } else {\n",
      "     return [[13.  0.]\n",
      " [13.  0.]]\n",
      "   }\n",
      " } else {\n",
      "   if ( Lumbar pain <= 0.5 ) {\n",
      "     return [[6. 0.]\n",
      " [6. 0.]]\n",
      "   } else {\n",
      "     if ( Micturition pains <= 0.5 ) {\n",
      "       return [[17.  0.]\n",
      " [ 0. 17.]]\n",
      "     } else {\n",
      "       if ( Urine pushing <= 0.5 ) {\n",
      "         return [[7. 0.]\n",
      " [0. 7.]]\n",
      "       } else {\n",
      "         return [[ 0. 14.]\n",
      " [ 0. 14.]]\n",
      "       }\n",
      "     }\n",
      "   }\n",
      " }\n"
     ]
    }
   ],
   "source": [
    "tree_to_decision_rules(diagnosis_model,['Temperature(C)','Nausea','Lumbar pain','Urine pushing',\n",
    "                                            'Micturition pains','Burning/Itching/Swelling of Bladder'])"
   ]
  },
  {
   "cell_type": "markdown",
   "metadata": {},
   "source": [
    "### (d) Use cost-complexity pruning to find a minimal decision tree and a set of decisionrules with high interpretability."
   ]
  },
  {
   "cell_type": "markdown",
   "metadata": {},
   "source": [
    "<font color=\"blue\">With the entire dataset</font>"
   ]
  },
  {
   "cell_type": "code",
   "execution_count": 27,
   "metadata": {},
   "outputs": [],
   "source": [
    "fpath = diagnosis_model.cost_complexity_pruning_path(x_data, y_data)"
   ]
  },
  {
   "cell_type": "code",
   "execution_count": 28,
   "metadata": {},
   "outputs": [],
   "source": [
    "falphas = fpath.get('ccp_alphas')"
   ]
  },
  {
   "cell_type": "code",
   "execution_count": 29,
   "metadata": {},
   "outputs": [
    {
     "data": {
      "text/plain": [
       "array([0.        , 0.09979604, 0.18809344, 0.22957396, 0.3725747 ])"
      ]
     },
     "execution_count": 29,
     "metadata": {},
     "output_type": "execute_result"
    }
   ],
   "source": [
    "falphas"
   ]
  },
  {
   "cell_type": "code",
   "execution_count": 30,
   "metadata": {},
   "outputs": [
    {
     "data": {
      "text/plain": [
       "GridSearchCV(cv=5, estimator=DecisionTreeClassifier(random_state=42),\n",
       "             param_grid={'ccp_alpha': array([0.        , 0.09979604, 0.18809344, 0.22957396, 0.3725747 ])})"
      ]
     },
     "execution_count": 30,
     "metadata": {},
     "output_type": "execute_result"
    }
   ],
   "source": [
    "param_grid = {\n",
    "    'ccp_alpha': falphas\n",
    "}\n",
    "fgcv = GridSearchCV(DecisionTreeClassifier(random_state=42),param_grid,cv=5)\n",
    "fgcv.fit(x_train,y_train)"
   ]
  },
  {
   "cell_type": "code",
   "execution_count": 31,
   "metadata": {},
   "outputs": [
    {
     "data": {
      "text/plain": [
       "1.0"
      ]
     },
     "execution_count": 31,
     "metadata": {},
     "output_type": "execute_result"
    }
   ],
   "source": [
    "fgcv.best_score_"
   ]
  },
  {
   "cell_type": "code",
   "execution_count": 32,
   "metadata": {},
   "outputs": [
    {
     "data": {
      "text/plain": [
       "{'ccp_alpha': 0.0}"
      ]
     },
     "execution_count": 32,
     "metadata": {},
     "output_type": "execute_result"
    }
   ],
   "source": [
    "fgcv.best_params_"
   ]
  },
  {
   "cell_type": "code",
   "execution_count": 33,
   "metadata": {},
   "outputs": [],
   "source": [
    "fbest_tree = DecisionTreeClassifier(random_state=42,ccp_alpha=fgcv.best_params_.get('ccp_alpha'))\n",
    "fbest_tree = fbest_tree.fit(x_data,y_data)\n",
    "fbest_predict = fbest_tree.predict(x_data)\n",
    "fbest_accuracy = accuracy_score(y_data,fbest_predict)\n",
    "fbest_error = 1 - fbest_accuracy"
   ]
  },
  {
   "cell_type": "code",
   "execution_count": 34,
   "metadata": {},
   "outputs": [
    {
     "name": "stdout",
     "output_type": "stream",
     "text": [
      "Pruning Report:\n",
      "---------------\n",
      "alpha = 0.0\n",
      "model_accuracy = 1.0\n",
      "model_error = 0.0\n"
     ]
    }
   ],
   "source": [
    "print('Pruning Report:')\n",
    "print('---------------')\n",
    "print(f'alpha = {fgcv.best_params_[\"ccp_alpha\"]}')\n",
    "print(f'model_accuracy = {fbest_accuracy}')\n",
    "print(f'model_error = {fbest_error}')"
   ]
  },
  {
   "cell_type": "code",
   "execution_count": 35,
   "metadata": {},
   "outputs": [
    {
     "data": {
      "text/plain": [
       "[Text(0.4, 0.9, 'Temperature(C) <= 37.95\\ngini = 0.493\\nsamples = 120\\nvalue = [[61, 59]\\n[70, 50]]'),\n",
       " Text(0.2, 0.7, 'Urine pushing <= 0.5\\ngini = 0.222\\nsamples = 60\\nvalue = [[20, 40]\\n[60, 0]]'),\n",
       " Text(0.1, 0.5, 'gini = 0.0\\nsamples = 20\\nvalue = [[20, 0]\\n[20, 0]]'),\n",
       " Text(0.3, 0.5, 'gini = 0.0\\nsamples = 40\\nvalue = [[0, 40]\\n[40, 0]]'),\n",
       " Text(0.6, 0.7, 'Lumbar pain <= 0.5\\ngini = 0.355\\nsamples = 60\\nvalue = [[41, 19]\\n[10, 50]]'),\n",
       " Text(0.5, 0.5, 'gini = 0.0\\nsamples = 10\\nvalue = [[10, 0]\\n[10, 0]]'),\n",
       " Text(0.7, 0.5, 'Nausea <= 0.5\\ngini = 0.236\\nsamples = 50\\nvalue = [[31, 19]\\n[0, 50]]'),\n",
       " Text(0.6, 0.3, 'gini = 0.0\\nsamples = 21\\nvalue = [[21, 0]\\n[0, 21]]'),\n",
       " Text(0.8, 0.3, 'Urine pushing <= 0.5\\ngini = 0.226\\nsamples = 29\\nvalue = [[10, 19]\\n[0, 29]]'),\n",
       " Text(0.7, 0.1, 'gini = 0.0\\nsamples = 10\\nvalue = [[10, 0]\\n[0, 10]]'),\n",
       " Text(0.9, 0.1, 'gini = 0.0\\nsamples = 19\\nvalue = [[0, 19]\\n[0, 19]]')]"
      ]
     },
     "execution_count": 35,
     "metadata": {},
     "output_type": "execute_result"
    },
    {
     "data": {
      "image/png": "[encoded data removed]",
      "text/plain": [
       "<Figure size 640x480 with 1 Axes>"
      ]
     },
     "metadata": {},
     "output_type": "display_data"
    }
   ],
   "source": [
    "tree.plot_tree(fbest_tree,feature_names=['Temperature(C)','Nausea','Lumbar pain','Urine pushing',\n",
    "                                            'Micturition pains','Burning/Itching/Swelling of Bladder'],\n",
    "              class_names=['Inflammation of bladder','Nephritis'],filled=True)"
   ]
  },
  {
   "cell_type": "code",
   "execution_count": 36,
   "metadata": {},
   "outputs": [
    {
     "name": "stdout",
     "output_type": "stream",
     "text": [
      " if ( Temperature(C) <= 37.95000076293945 ) {\n",
      "   if ( Urine pushing <= 0.5 ) {\n",
      "     return [[20.  0.]\n",
      " [20.  0.]]\n",
      "   } else {\n",
      "     return [[ 0. 40.]\n",
      " [40.  0.]]\n",
      "   }\n",
      " } else {\n",
      "   if ( Lumbar pain <= 0.5 ) {\n",
      "     return [[10.  0.]\n",
      " [10.  0.]]\n",
      "   } else {\n",
      "     if ( Nausea <= 0.5 ) {\n",
      "       return [[21.  0.]\n",
      " [ 0. 21.]]\n",
      "     } else {\n",
      "       if ( Urine pushing <= 0.5 ) {\n",
      "         return [[10.  0.]\n",
      " [ 0. 10.]]\n",
      "       } else {\n",
      "         return [[ 0. 19.]\n",
      " [ 0. 19.]]\n",
      "       }\n",
      "     }\n",
      "   }\n",
      " }\n"
     ]
    }
   ],
   "source": [
    "tree_to_decision_rules(fbest_tree,['Temperature(C)','Nausea','Lumbar pain','Urine pushing',\n",
    "                                            'Micturition pains','Burning/Itching/Swelling of Bladder'])"
   ]
  },
  {
   "cell_type": "markdown",
   "metadata": {},
   "source": [
    "<font color=\"red\">With data split into training and test data</font>"
   ]
  },
  {
   "cell_type": "code",
   "execution_count": 37,
   "metadata": {},
   "outputs": [],
   "source": [
    "path = diagnosis_model.cost_complexity_pruning_path(x_train, y_train)"
   ]
  },
  {
   "cell_type": "code",
   "execution_count": 38,
   "metadata": {},
   "outputs": [],
   "source": [
    "alphas = path.get('ccp_alphas')"
   ]
  },
  {
   "cell_type": "code",
   "execution_count": 39,
   "metadata": {},
   "outputs": [
    {
     "data": {
      "text/plain": [
       "array([0.        , 0.1073785 , 0.17208392, 0.21660384, 0.39307437])"
      ]
     },
     "execution_count": 39,
     "metadata": {},
     "output_type": "execute_result"
    }
   ],
   "source": [
    "alphas"
   ]
  },
  {
   "cell_type": "code",
   "execution_count": 40,
   "metadata": {},
   "outputs": [
    {
     "data": {
      "text/plain": [
       "GridSearchCV(cv=5, estimator=DecisionTreeClassifier(random_state=42),\n",
       "             param_grid={'ccp_alpha': array([0.        , 0.1073785 , 0.17208392, 0.21660384, 0.39307437])})"
      ]
     },
     "execution_count": 40,
     "metadata": {},
     "output_type": "execute_result"
    }
   ],
   "source": [
    "param_grid = {\n",
    "    'ccp_alpha': alphas\n",
    "}\n",
    "gcv = GridSearchCV(DecisionTreeClassifier(random_state=42),param_grid,cv=5)\n",
    "gcv.fit(x_train,y_train)"
   ]
  },
  {
   "cell_type": "code",
   "execution_count": 41,
   "metadata": {},
   "outputs": [
    {
     "data": {
      "text/plain": [
       "1.0"
      ]
     },
     "execution_count": 41,
     "metadata": {},
     "output_type": "execute_result"
    }
   ],
   "source": [
    "gcv.best_score_"
   ]
  },
  {
   "cell_type": "code",
   "execution_count": 42,
   "metadata": {},
   "outputs": [
    {
     "data": {
      "text/plain": [
       "{'ccp_alpha': 0.0}"
      ]
     },
     "execution_count": 42,
     "metadata": {},
     "output_type": "execute_result"
    }
   ],
   "source": [
    "gcv.best_params_"
   ]
  },
  {
   "cell_type": "code",
   "execution_count": 43,
   "metadata": {},
   "outputs": [],
   "source": [
    "best_tree = DecisionTreeClassifier(random_state=42,ccp_alpha=gcv.best_params_.get('ccp_alpha'))\n",
    "best_tree = best_tree.fit(x_train,y_train)\n",
    "best_predict = best_tree.predict(x_test)\n",
    "best_accuracy = accuracy_score(y_test,best_predict)\n",
    "best_error = 1 - best_accuracy"
   ]
  },
  {
   "cell_type": "code",
   "execution_count": 44,
   "metadata": {},
   "outputs": [
    {
     "name": "stdout",
     "output_type": "stream",
     "text": [
      "Pruning Report:\n",
      "---------------\n",
      "alpha = 0.0\n",
      "model_accuracy = 1.0\n",
      "model_error = 0.0\n"
     ]
    }
   ],
   "source": [
    "print('Pruning Report:')\n",
    "print('---------------')\n",
    "print(f'alpha = {gcv.best_params_[\"ccp_alpha\"]}')\n",
    "print(f'model_accuracy = {best_accuracy}')\n",
    "print(f'model_error = {best_error}')"
   ]
  },
  {
   "cell_type": "code",
   "execution_count": 45,
   "metadata": {},
   "outputs": [
    {
     "data": {
      "text/plain": [
       "[Text(0.4, 0.9, 'Temperature(C) <= 37.95\\ngini = 0.498\\nsamples = 84\\nvalue = [[43, 41]\\n[46, 38]]'),\n",
       " Text(0.2, 0.7, 'Urine pushing <= 0.5\\ngini = 0.219\\nsamples = 40\\nvalue = [[13, 27]\\n[40, 0]]'),\n",
       " Text(0.1, 0.5, 'gini = 0.0\\nsamples = 13\\nvalue = [[13, 0]\\n[13, 0]]'),\n",
       " Text(0.3, 0.5, 'gini = 0.0\\nsamples = 27\\nvalue = [[0, 27]\\n[27, 0]]'),\n",
       " Text(0.6, 0.7, 'Lumbar pain <= 0.5\\ngini = 0.335\\nsamples = 44\\nvalue = [[30, 14]\\n[6, 38]]'),\n",
       " Text(0.5, 0.5, 'gini = 0.0\\nsamples = 6\\nvalue = [[6, 0]\\n[6, 0]]'),\n",
       " Text(0.7, 0.5, 'Nausea <= 0.5\\ngini = 0.233\\nsamples = 38\\nvalue = [[24, 14]\\n[0, 38]]'),\n",
       " Text(0.6, 0.3, 'gini = 0.0\\nsamples = 17\\nvalue = [[17, 0]\\n[0, 17]]'),\n",
       " Text(0.8, 0.3, 'Urine pushing <= 0.5\\ngini = 0.222\\nsamples = 21\\nvalue = [[7, 14]\\n[0, 21]]'),\n",
       " Text(0.7, 0.1, 'gini = 0.0\\nsamples = 7\\nvalue = [[7, 0]\\n[0, 7]]'),\n",
       " Text(0.9, 0.1, 'gini = 0.0\\nsamples = 14\\nvalue = [[0, 14]\\n[0, 14]]')]"
      ]
     },
     "execution_count": 45,
     "metadata": {},
     "output_type": "execute_result"
    },
    {
     "data": {
      "image/png": "[encoded data removed]",
      "text/plain": [
       "<Figure size 640x480 with 1 Axes>"
      ]
     },
     "metadata": {},
     "output_type": "display_data"
    }
   ],
   "source": [
    "tree.plot_tree(best_tree,feature_names=['Temperature(C)','Nausea','Lumbar pain','Urine pushing',\n",
    "                                            'Micturition pains','Burning/Itching/Swelling of Bladder'],\n",
    "              class_names=['Inflammation of bladder','Nephritis'],filled=True)"
   ]
  },
  {
   "cell_type": "code",
   "execution_count": 46,
   "metadata": {},
   "outputs": [
    {
     "name": "stdout",
     "output_type": "stream",
     "text": [
      " if ( Temperature(C) <= 37.95000076293945 ) {\n",
      "   if ( Urine pushing <= 0.5 ) {\n",
      "     return [[13.  0.]\n",
      " [13.  0.]]\n",
      "   } else {\n",
      "     return [[ 0. 27.]\n",
      " [27.  0.]]\n",
      "   }\n",
      " } else {\n",
      "   if ( Lumbar pain <= 0.5 ) {\n",
      "     return [[6. 0.]\n",
      " [6. 0.]]\n",
      "   } else {\n",
      "     if ( Nausea <= 0.5 ) {\n",
      "       return [[17.  0.]\n",
      " [ 0. 17.]]\n",
      "     } else {\n",
      "       if ( Urine pushing <= 0.5 ) {\n",
      "         return [[7. 0.]\n",
      " [0. 7.]]\n",
      "       } else {\n",
      "         return [[ 0. 14.]\n",
      " [ 0. 14.]]\n",
      "       }\n",
      "     }\n",
      "   }\n",
      " }\n"
     ]
    }
   ],
   "source": [
    "tree_to_decision_rules(best_tree,['Temperature(C)','Nausea','Lumbar pain','Urine pushing',\n",
    "                                            'Micturition pains','Burning/Itching/Swelling of Bladder'])"
   ]
  },
  {
   "cell_type": "markdown",
   "metadata": {},
   "source": [
    "# Citations:\n",
    "1. https://www.kdnuggets.com/2017/05/simplifying-decision-tree-interpretation-decision-rules-python.html\n",
    "2. https://www.datacamp.com/tutorial/decision-tree-classification-python\n",
    "3. https://scikit-learn.org/stable/modules/generated/sklearn.tree.plot_tree.html\n",
    "4. https://scikit-learn.org/stable/auto_examples/tree/plot_cost_complexity_pruning.html\n",
    "5. https://vzhang1999.medium.com/classification-tree-growing-and-pruning-with-python-code-grid-search-cost-complexity-function-b2e45e33a1a4\n",
    "6. http://www.science.smith.edu/~jcrouser/SDS293/labs/lab11-py.html\n",
    "7. https://scikit-learn.org/stable/modules/generated/sklearn.linear_model.LassoCV.html\n",
    "8. https://machinelearningmastery.com/lasso-regression-with-python/\n",
    "9. https://scikit-learn.org/stable/modules/generated/sklearn.linear_model.RidgeCV.html"
   ]
  }
 ],
 "metadata": {
  "kernelspec": {
   "display_name": "Python 3 (ipykernel)",
   "language": "python",
   "name": "python3"
  },
  "language_info": {
   "codemirror_mode": {
    "name": "ipython",
    "version": 3
   },
   "file_extension": ".py",
   "mimetype": "text/x-python",
   "name": "python",
   "nbconvert_exporter": "python",
   "pygments_lexer": "ipython3",
   "version": "3.9.13"
  },
  "toc": {
   "base_numbering": 1,
   "nav_menu": {},
   "number_sections": true,
   "sideBar": true,
   "skip_h1_title": true,
   "title_cell": "Table of Contents",
   "title_sidebar": "Contents",
   "toc_cell": false,
   "toc_position": {
    "height": "calc(100% - 180px)",
    "left": "10px",
    "top": "150px",
    "width": "294.435px"
   },
   "toc_section_display": true,
   "toc_window_display": true
  },
  "vscode": {
   "interpreter": {
    "hash": "3c20c2d94d2527936fe0f3a300eb11db30fed84423423838e2f93b74eb7aaebc"
   }
  }
 },
 "nbformat": 4,
 "nbformat_minor": 4
}
